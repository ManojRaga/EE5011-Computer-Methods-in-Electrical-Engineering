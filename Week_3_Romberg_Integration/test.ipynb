{
 "cells": [
  {
   "cell_type": "code",
   "execution_count": null,
   "id": "d5a53e50-7b9c-40da-93ff-962115d2c4ca",
   "metadata": {},
   "outputs": [],
   "source": [
    "order=6\n",
    "s_out=0.0\n",
    "xx=[]; yy=[]\t\n",
    "\n",
    "for j in range():\n",
    "\n",
    "    for i in range(1,order+1):\n",
    "        s_out=r.trapzd(integral,0,20,s_out,i)\n",
    "        xx.append((20.0/(2**(i-1)))**2)\n",
    "        yy.append(s_out)\n",
    "\n",
    "    y.append(polint(xx,yy,0))\t"
   ]
  },
  {
   "cell_type": "code",
   "execution_count": null,
   "id": "616e32b9-eb77-49a1-a34a-80ab117e2ba6",
   "metadata": {},
   "outputs": [],
   "source": [
    "def qrombp(f,a,b):\n",
    "    out=error=0\n",
    "    k=5\n",
    "    xx=yy=[]\n",
    "    for i in range(1,k+1):\n",
    "        out=r.trapzd(f,a,b,out,i)\n",
    "        xx.append(((b-a)/(2**(i-1)))**2)\n",
    "        yy.append(out)\n",
    "    out,error=r.polint(xx,yy,0)\n",
    "    return out,error\n",
    " \n",
    "out,error=qrombp(func,0,20)\n",
    "c=[]\n",
    "x=[]\n",
    "for i in range(3,21):\n",
    "    count=0\n",
    "    x.append(r.qromb(func,0,20,1e-8,i)[1])\n",
    "    c.append(count)\n",
    "\n",
    "plt.clf()\n",
    "plt.semilogy(range(3,21),c,'c')\n",
    "plt.xlabel(\"order from qromb\")\n",
    "plt.ylabel(\"Number of function calls\")\n",
    "plt.grid()\n",
    "plt.savefig(\"9\")"
   ]
  }
 ],
 "metadata": {
  "kernelspec": {
   "display_name": "Python 3 (ipykernel)",
   "language": "python",
   "name": "python3"
  },
  "language_info": {
   "codemirror_mode": {
    "name": "ipython",
    "version": 3
   },
   "file_extension": ".py",
   "mimetype": "text/x-python",
   "name": "python",
   "nbconvert_exporter": "python",
   "pygments_lexer": "ipython3",
   "version": "3.10.12"
  }
 },
 "nbformat": 4,
 "nbformat_minor": 5
}
